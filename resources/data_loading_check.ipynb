{
 "cells": [
  {
   "cell_type": "markdown",
   "id": "c6722f00",
   "metadata": {},
   "source": [
    "# Data loading - check to correctly understand data / label format\n",
    "\n",
    "- load data from conformal boundary example dataset\n",
    "- watch how data changes formats / shapes throughout the training pipeline."
   ]
  },
  {
   "cell_type": "code",
   "execution_count": 23,
   "id": "c1b86795",
   "metadata": {},
   "outputs": [],
   "source": [
    "import os\n",
    "\n",
    "import pytorch3dunet\n",
    "from pytorch3dunet import predict\n",
    "from pytorch3dunet.unet3d import trainer as trainer\n",
    "from pytorch3dunet.unet3d.config import _load_config_yaml"
   ]
  },
  {
   "cell_type": "code",
   "execution_count": 24,
   "id": "ac5a0f65",
   "metadata": {},
   "outputs": [
    {
     "data": {
      "text/plain": [
       "['test_config.yml', 'ovules_raw.png', 'ovules_pred.png', 'train_config.yml']"
      ]
     },
     "execution_count": 24,
     "metadata": {},
     "output_type": "execute_result"
    }
   ],
   "source": [
    "config_dir = './3DUnet_sulci'\n",
    "config_filename = 'train_config.yml'\n",
    "os.listdir(config_dir)"
   ]
  },
  {
   "cell_type": "code",
   "execution_count": 26,
   "id": "63109735",
   "metadata": {},
   "outputs": [],
   "source": [
    "config_filepath = f'{config_dir}/{config_filename}'\n",
    "config = _load_config_yaml(config_filepath)"
   ]
  },
  {
   "cell_type": "code",
   "execution_count": 29,
   "id": "78dadeb9",
   "metadata": {
    "scrolled": true
   },
   "outputs": [
    {
     "name": "stdout",
     "output_type": "stream",
     "text": [
      "2023-05-16 20:49:57,926 [MainThread] INFO Dataset - Creating training and validation set loaders...\n",
      "2023-05-16 20:49:57,926 [MainThread] WARNING Dataset - Cannot find dataset class in the config. Using default 'StandardHDF5Dataset'.\n",
      "2023-05-16 20:49:58,922 [MainThread] INFO HDF5Dataset - Loading train set from: PATH_TO_TRAIN_DIR...\n",
      "2023-05-16 20:49:58,922 [MainThread] ERROR HDF5Dataset - Skipping train set: PATH_TO_TRAIN_DIR\n",
      "Traceback (most recent call last):\n",
      "  File \"/home/groups/jyeatman/software/anaconda3/envs/pytorch-3dunet/lib/python3.9/site-packages/pytorch3dunet-1.5.1-py3.9.egg/pytorch3dunet/datasets/hdf5.py\", line 142, in create_datasets\n",
      "    dataset = cls(file_path=file_path,\n",
      "  File \"/home/groups/jyeatman/software/anaconda3/envs/pytorch-3dunet/lib/python3.9/site-packages/pytorch3dunet-1.5.1-py3.9.egg/pytorch3dunet/datasets/hdf5.py\", line 179, in __init__\n",
      "    super().__init__(file_path=file_path, phase=phase, slice_builder_config=slice_builder_config,\n",
      "  File \"/home/groups/jyeatman/software/anaconda3/envs/pytorch-3dunet/lib/python3.9/site-packages/pytorch3dunet-1.5.1-py3.9.egg/pytorch3dunet/datasets/hdf5.py\", line 37, in __init__\n",
      "    input_file = self.create_h5_file(file_path)\n",
      "  File \"/home/groups/jyeatman/software/anaconda3/envs/pytorch-3dunet/lib/python3.9/site-packages/pytorch3dunet-1.5.1-py3.9.egg/pytorch3dunet/datasets/hdf5.py\", line 186, in create_h5_file\n",
      "    return h5py.File(file_path, 'r')\n",
      "  File \"/home/groups/jyeatman/software/anaconda3/envs/pytorch-3dunet/lib/python3.9/site-packages/h5py/_hl/files.py\", line 533, in __init__\n",
      "    fid = make_fid(name, mode, userblock_size, fapl, fcpl, swmr=swmr)\n",
      "  File \"/home/groups/jyeatman/software/anaconda3/envs/pytorch-3dunet/lib/python3.9/site-packages/h5py/_hl/files.py\", line 226, in make_fid\n",
      "    fid = h5f.open(name, flags, fapl=fapl)\n",
      "  File \"h5py/_objects.pyx\", line 54, in h5py._objects.with_phil.wrapper\n",
      "  File \"h5py/_objects.pyx\", line 55, in h5py._objects.with_phil.wrapper\n",
      "  File \"h5py/h5f.pyx\", line 106, in h5py.h5f.open\n",
      "FileNotFoundError: [Errno 2] Unable to open file (unable to open file: name = 'PATH_TO_TRAIN_DIR', errno = 2, error message = 'No such file or directory', flags = 0, o_flags = 0)\n",
      "2023-05-16 20:49:58,928 [MainThread] INFO HDF5Dataset - Loading val set from: PATH_TO_VAL_DIR...\n",
      "2023-05-16 20:49:58,928 [MainThread] ERROR HDF5Dataset - Skipping val set: PATH_TO_VAL_DIR\n",
      "Traceback (most recent call last):\n",
      "  File \"/home/groups/jyeatman/software/anaconda3/envs/pytorch-3dunet/lib/python3.9/site-packages/pytorch3dunet-1.5.1-py3.9.egg/pytorch3dunet/datasets/hdf5.py\", line 142, in create_datasets\n",
      "    dataset = cls(file_path=file_path,\n",
      "  File \"/home/groups/jyeatman/software/anaconda3/envs/pytorch-3dunet/lib/python3.9/site-packages/pytorch3dunet-1.5.1-py3.9.egg/pytorch3dunet/datasets/hdf5.py\", line 179, in __init__\n",
      "    super().__init__(file_path=file_path, phase=phase, slice_builder_config=slice_builder_config,\n",
      "  File \"/home/groups/jyeatman/software/anaconda3/envs/pytorch-3dunet/lib/python3.9/site-packages/pytorch3dunet-1.5.1-py3.9.egg/pytorch3dunet/datasets/hdf5.py\", line 37, in __init__\n",
      "    input_file = self.create_h5_file(file_path)\n",
      "  File \"/home/groups/jyeatman/software/anaconda3/envs/pytorch-3dunet/lib/python3.9/site-packages/pytorch3dunet-1.5.1-py3.9.egg/pytorch3dunet/datasets/hdf5.py\", line 186, in create_h5_file\n",
      "    return h5py.File(file_path, 'r')\n",
      "  File \"/home/groups/jyeatman/software/anaconda3/envs/pytorch-3dunet/lib/python3.9/site-packages/h5py/_hl/files.py\", line 533, in __init__\n",
      "    fid = make_fid(name, mode, userblock_size, fapl, fcpl, swmr=swmr)\n",
      "  File \"/home/groups/jyeatman/software/anaconda3/envs/pytorch-3dunet/lib/python3.9/site-packages/h5py/_hl/files.py\", line 226, in make_fid\n",
      "    fid = h5f.open(name, flags, fapl=fapl)\n",
      "  File \"h5py/_objects.pyx\", line 54, in h5py._objects.with_phil.wrapper\n",
      "  File \"h5py/_objects.pyx\", line 55, in h5py._objects.with_phil.wrapper\n",
      "  File \"h5py/h5f.pyx\", line 106, in h5py.h5f.open\n",
      "FileNotFoundError: [Errno 2] Unable to open file (unable to open file: name = 'PATH_TO_VAL_DIR', errno = 2, error message = 'No such file or directory', flags = 0, o_flags = 0)\n",
      "2023-05-16 20:49:58,929 [MainThread] INFO Dataset - Number of workers for train/val dataloader: 8\n",
      "2023-05-16 20:49:58,929 [MainThread] INFO Dataset - Batch size for train/val loader: 1\n"
     ]
    },
    {
     "ename": "AssertionError",
     "evalue": "datasets should not be an empty iterable",
     "output_type": "error",
     "traceback": [
      "\u001b[0;31m---------------------------------------------------------------------------\u001b[0m",
      "\u001b[0;31mAssertionError\u001b[0m                            Traceback (most recent call last)",
      "Cell \u001b[0;32mIn[29], line 1\u001b[0m\n\u001b[0;32m----> 1\u001b[0m loaders \u001b[38;5;241m=\u001b[39m \u001b[43mtrainer\u001b[49m\u001b[38;5;241;43m.\u001b[39;49m\u001b[43mget_train_loaders\u001b[49m\u001b[43m(\u001b[49m\u001b[43mconfig\u001b[49m\u001b[43m)\u001b[49m\n",
      "File \u001b[0;32m/home/groups/jyeatman/software/anaconda3/envs/pytorch-3dunet/lib/python3.9/site-packages/pytorch3dunet-1.5.1-py3.9.egg/pytorch3dunet/datasets/utils.py:219\u001b[0m, in \u001b[0;36mget_train_loaders\u001b[0;34m(config)\u001b[0m\n\u001b[1;32m    216\u001b[0m logger\u001b[38;5;241m.\u001b[39minfo(\u001b[38;5;124mf\u001b[39m\u001b[38;5;124m'\u001b[39m\u001b[38;5;124mBatch size for train/val loader: \u001b[39m\u001b[38;5;132;01m{\u001b[39;00mbatch_size\u001b[38;5;132;01m}\u001b[39;00m\u001b[38;5;124m'\u001b[39m)\n\u001b[1;32m    217\u001b[0m \u001b[38;5;66;03m# when training with volumetric data use batch_size of 1 due to GPU memory constraints\u001b[39;00m\n\u001b[1;32m    218\u001b[0m \u001b[38;5;28;01mreturn\u001b[39;00m {\n\u001b[0;32m--> 219\u001b[0m     \u001b[38;5;124m'\u001b[39m\u001b[38;5;124mtrain\u001b[39m\u001b[38;5;124m'\u001b[39m: DataLoader(\u001b[43mConcatDataset\u001b[49m\u001b[43m(\u001b[49m\u001b[43mtrain_datasets\u001b[49m\u001b[43m)\u001b[49m, batch_size\u001b[38;5;241m=\u001b[39mbatch_size, shuffle\u001b[38;5;241m=\u001b[39m\u001b[38;5;28;01mTrue\u001b[39;00m, pin_memory\u001b[38;5;241m=\u001b[39m\u001b[38;5;28;01mTrue\u001b[39;00m,\n\u001b[1;32m    220\u001b[0m                         num_workers\u001b[38;5;241m=\u001b[39mnum_workers),\n\u001b[1;32m    221\u001b[0m     \u001b[38;5;66;03m# don't shuffle during validation: useful when showing how predictions for a given batch get better over time\u001b[39;00m\n\u001b[1;32m    222\u001b[0m     \u001b[38;5;124m'\u001b[39m\u001b[38;5;124mval\u001b[39m\u001b[38;5;124m'\u001b[39m: DataLoader(ConcatDataset(val_datasets), batch_size\u001b[38;5;241m=\u001b[39mbatch_size, shuffle\u001b[38;5;241m=\u001b[39m\u001b[38;5;28;01mFalse\u001b[39;00m, pin_memory\u001b[38;5;241m=\u001b[39m\u001b[38;5;28;01mTrue\u001b[39;00m,\n\u001b[1;32m    223\u001b[0m                       num_workers\u001b[38;5;241m=\u001b[39mnum_workers)\n\u001b[1;32m    224\u001b[0m }\n",
      "File \u001b[0;32m/home/groups/jyeatman/software/anaconda3/envs/pytorch-3dunet/lib/python3.9/site-packages/torch/utils/data/dataset.py:225\u001b[0m, in \u001b[0;36mConcatDataset.__init__\u001b[0;34m(self, datasets)\u001b[0m\n\u001b[1;32m    223\u001b[0m \u001b[38;5;28msuper\u001b[39m()\u001b[38;5;241m.\u001b[39m\u001b[38;5;21m__init__\u001b[39m()\n\u001b[1;32m    224\u001b[0m \u001b[38;5;28mself\u001b[39m\u001b[38;5;241m.\u001b[39mdatasets \u001b[38;5;241m=\u001b[39m \u001b[38;5;28mlist\u001b[39m(datasets)\n\u001b[0;32m--> 225\u001b[0m \u001b[38;5;28;01massert\u001b[39;00m \u001b[38;5;28mlen\u001b[39m(\u001b[38;5;28mself\u001b[39m\u001b[38;5;241m.\u001b[39mdatasets) \u001b[38;5;241m>\u001b[39m \u001b[38;5;241m0\u001b[39m, \u001b[38;5;124m'\u001b[39m\u001b[38;5;124mdatasets should not be an empty iterable\u001b[39m\u001b[38;5;124m'\u001b[39m  \u001b[38;5;66;03m# type: ignore[arg-type]\u001b[39;00m\n\u001b[1;32m    226\u001b[0m \u001b[38;5;28;01mfor\u001b[39;00m d \u001b[38;5;129;01min\u001b[39;00m \u001b[38;5;28mself\u001b[39m\u001b[38;5;241m.\u001b[39mdatasets:\n\u001b[1;32m    227\u001b[0m     \u001b[38;5;28;01massert\u001b[39;00m \u001b[38;5;129;01mnot\u001b[39;00m \u001b[38;5;28misinstance\u001b[39m(d, IterableDataset), \u001b[38;5;124m\"\u001b[39m\u001b[38;5;124mConcatDataset does not support IterableDataset\u001b[39m\u001b[38;5;124m\"\u001b[39m\n",
      "\u001b[0;31mAssertionError\u001b[0m: datasets should not be an empty iterable"
     ]
    }
   ],
   "source": [
    "loaders = trainer.get_train_loaders(config)"
   ]
  },
  {
   "cell_type": "code",
   "execution_count": null,
   "id": "40004edb",
   "metadata": {},
   "outputs": [],
   "source": []
  }
 ],
 "metadata": {
  "kernelspec": {
   "display_name": "Python [conda env:pytorch-3dunet]",
   "language": "python",
   "name": "conda-env-pytorch-3dunet-py"
  },
  "language_info": {
   "codemirror_mode": {
    "name": "ipython",
    "version": 3
   },
   "file_extension": ".py",
   "mimetype": "text/x-python",
   "name": "python",
   "nbconvert_exporter": "python",
   "pygments_lexer": "ipython3",
   "version": "3.9.16"
  }
 },
 "nbformat": 4,
 "nbformat_minor": 5
}

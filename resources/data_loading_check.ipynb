{
 "cells": [
  {
   "cell_type": "markdown",
   "id": "c6722f00",
   "metadata": {},
   "source": [
    "# Data loading - check to correctly understand data / label format\n",
    "\n",
    "- load data from conformal boundary example dataset\n",
    "- watch how data changes formats / shapes throughout the training pipeline."
   ]
  },
  {
   "cell_type": "code",
   "execution_count": 1,
   "id": "c1b86795",
   "metadata": {},
   "outputs": [],
   "source": [
    "import os\n",
    "\n",
    "import pytorch3dunet\n",
    "from pytorch3dunet import predict\n",
    "from pytorch3dunet.unet3d.config import _load_config_yaml"
   ]
  },
  {
   "cell_type": "code",
   "execution_count": 2,
   "id": "ac5a0f65",
   "metadata": {},
   "outputs": [
    {
     "data": {
      "text/plain": [
       "['test_config.yml', 'ovules_raw.png', 'ovules_pred.png', 'train_config.yml']"
      ]
     },
     "execution_count": 2,
     "metadata": {},
     "output_type": "execute_result"
    }
   ],
   "source": [
    "config_dir = './3DUnet_sulci'\n",
    "config_filename = 'train_config.yml'\n",
    "os.listdir(config_dir)"
   ]
  },
  {
   "cell_type": "code",
   "execution_count": 3,
   "id": "63109735",
   "metadata": {},
   "outputs": [],
   "source": [
    "config_filepath = f'{config_dir}/{config_filename}'\n",
    "config = _load_config_yaml(config_filepath)"
   ]
  },
  {
   "cell_type": "code",
   "execution_count": 4,
   "id": "85cb45a4",
   "metadata": {},
   "outputs": [
    {
     "ename": "AttributeError",
     "evalue": "module 'pytorch3dunet.unet3d' has no attribute 'trainer'",
     "output_type": "error",
     "traceback": [
      "\u001b[0;31m---------------------------------------------------------------------------\u001b[0m",
      "\u001b[0;31mAttributeError\u001b[0m                            Traceback (most recent call last)",
      "Cell \u001b[0;32mIn[4], line 1\u001b[0m\n\u001b[0;32m----> 1\u001b[0m \u001b[43mpytorch3dunet\u001b[49m\u001b[38;5;241;43m.\u001b[39;49m\u001b[43munet3d\u001b[49m\u001b[38;5;241;43m.\u001b[39;49m\u001b[43mtrainer\u001b[49m\n",
      "\u001b[0;31mAttributeError\u001b[0m: module 'pytorch3dunet.unet3d' has no attribute 'trainer'"
     ]
    }
   ],
   "source": [
    "pytorch3dunet.unet3d.trainer"
   ]
  },
  {
   "cell_type": "code",
   "execution_count": 27,
   "id": "78dadeb9",
   "metadata": {
    "scrolled": true
   },
   "outputs": [
    {
     "ename": "NameError",
     "evalue": "name 'get_train_loaders' is not defined",
     "output_type": "error",
     "traceback": [
      "\u001b[0;31m---------------------------------------------------------------------------\u001b[0m",
      "\u001b[0;31mNameError\u001b[0m                                 Traceback (most recent call last)",
      "Cell \u001b[0;32mIn[27], line 1\u001b[0m\n\u001b[0;32m----> 1\u001b[0m loaders \u001b[38;5;241m=\u001b[39m \u001b[43mget_train_loaders\u001b[49m(config)\n",
      "\u001b[0;31mNameError\u001b[0m: name 'get_train_loaders' is not defined"
     ]
    }
   ],
   "source": [
    "loaders = unet3d.get_train_loaders(config)"
   ]
  },
  {
   "cell_type": "code",
   "execution_count": 25,
   "id": "3be3734c",
   "metadata": {},
   "outputs": [
    {
     "ename": "AttributeError",
     "evalue": "module 'pytorch3dunet.unet3d' has no attribute 'trainer'",
     "output_type": "error",
     "traceback": [
      "\u001b[0;31m---------------------------------------------------------------------------\u001b[0m",
      "\u001b[0;31mAttributeError\u001b[0m                            Traceback (most recent call last)",
      "Cell \u001b[0;32mIn[25], line 1\u001b[0m\n\u001b[0;32m----> 1\u001b[0m \u001b[43mpytorch3dunet\u001b[49m\u001b[38;5;241;43m.\u001b[39;49m\u001b[43munet3d\u001b[49m\u001b[38;5;241;43m.\u001b[39;49m\u001b[43mtrainer\u001b[49m\n",
      "\u001b[0;31mAttributeError\u001b[0m: module 'pytorch3dunet.unet3d' has no attribute 'trainer'"
     ]
    }
   ],
   "source": [
    "pytorch3dunet."
   ]
  },
  {
   "cell_type": "code",
   "execution_count": null,
   "id": "40004edb",
   "metadata": {},
   "outputs": [],
   "source": []
  }
 ],
 "metadata": {
  "kernelspec": {
   "display_name": "Python [conda env:pytorch-3dunet]",
   "language": "python",
   "name": "conda-env-pytorch-3dunet-py"
  },
  "language_info": {
   "codemirror_mode": {
    "name": "ipython",
    "version": 3
   },
   "file_extension": ".py",
   "mimetype": "text/x-python",
   "name": "python",
   "nbconvert_exporter": "python",
   "pygments_lexer": "ipython3",
   "version": "3.9.16"
  }
 },
 "nbformat": 4,
 "nbformat_minor": 5
}
